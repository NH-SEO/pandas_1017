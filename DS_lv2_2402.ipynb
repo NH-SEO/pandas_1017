{
 "cells": [
  {
   "cell_type": "code",
   "execution_count": 1,
   "id": "ed4abc9a",
   "metadata": {},
   "outputs": [],
   "source": [
    "import warnings\n",
    "warnings.filterwarnings('ignore')\n",
    "\n",
    "import pandas as pd\n",
    "import numpy as np"
   ]
  },
  {
   "cell_type": "code",
   "execution_count": 2,
   "id": "d88186a4",
   "metadata": {},
   "outputs": [],
   "source": [
    "post = pd.read_csv('lv2-2402.csv')"
   ]
  },
  {
   "cell_type": "markdown",
   "id": "d0baabba",
   "metadata": {},
   "source": [
    "# 1"
   ]
  },
  {
   "cell_type": "code",
   "execution_count": 3,
   "id": "623e0d5c",
   "metadata": {},
   "outputs": [],
   "source": [
    "df1 = post.copy()"
   ]
  },
  {
   "cell_type": "markdown",
   "id": "4f250c70",
   "metadata": {},
   "source": [
    "# 1-1"
   ]
  },
  {
   "cell_type": "code",
   "execution_count": 6,
   "id": "4aaa1ee4",
   "metadata": {},
   "outputs": [
    {
     "data": {
      "text/plain": [
       "array(['heart emoji', 'laughing', nan, 'thumbs up', 'fire', 'clap'],\n",
       "      dtype=object)"
      ]
     },
     "execution_count": 6,
     "metadata": {},
     "output_type": "execute_result"
    }
   ],
   "source": [
    "df1[df1['LIKES'] == 'yes']['LIKE_TYPE'].unique()"
   ]
  },
  {
   "cell_type": "code",
   "execution_count": 8,
   "id": "5c8ed9cd",
   "metadata": {},
   "outputs": [
    {
     "data": {
      "text/plain": [
       "array([nan, 'fire', 'laughing', 'clap', 'heart emoji', 'thumbs up'],\n",
       "      dtype=object)"
      ]
     },
     "execution_count": 8,
     "metadata": {},
     "output_type": "execute_result"
    }
   ],
   "source": [
    "df1[df1['LIKES'] == 'no']['LIKE_TYPE'].unique()"
   ]
  },
  {
   "cell_type": "code",
   "execution_count": 14,
   "id": "3563d042",
   "metadata": {},
   "outputs": [],
   "source": [
    "yes_map = {\n",
    "    'heart emoji': 5,\n",
    "    'thumbs up': 4,\n",
    "    'clap': 3,\n",
    "    'laughing': 2,\n",
    "    'fire': 0\n",
    "}\n",
    "\n",
    "df1.loc[df1['LIKES'] == 'yes', 'LIKE_SCORE'] = df1.loc[df1['LIKES'] == 'yes', 'LIKE_TYPE'].map(yes_map).fillna(value=1)"
   ]
  },
  {
   "cell_type": "code",
   "execution_count": 16,
   "id": "ddeabaac",
   "metadata": {},
   "outputs": [],
   "source": [
    "no_map = {\n",
    "    'fire': -5, \n",
    "    'laughing': 0,\n",
    "    'clap': 0,\n",
    "    'heart emoji': 0,\n",
    "    'thumbs up': 0\n",
    "}\n",
    "\n",
    "df1.loc[df1['LIKES'] == 'no', 'LIKE_SCORE'] = df1.loc[df1['LIKES'] == 'no', 'LIKE_TYPE'].map(no_map).fillna(value=-1)"
   ]
  },
  {
   "cell_type": "markdown",
   "id": "24ca02a1",
   "metadata": {},
   "source": [
    "## 1-2"
   ]
  },
  {
   "cell_type": "code",
   "execution_count": 20,
   "id": "fad4ff84",
   "metadata": {},
   "outputs": [],
   "source": [
    "AGG24 = df1.groupby('POST_ID').apply(lambda x: pd.Series({\n",
    "    'NUM_LIKES': (x['LIKES'] == 'yes').sum(),\n",
    "    'NUM_USER': x['USER_ID'].nunique(),\n",
    "    'SUM_SCORE': x['LIKE_SCORE'].sum()\n",
    "}))"
   ]
  },
  {
   "cell_type": "code",
   "execution_count": 21,
   "id": "030e6b83",
   "metadata": {},
   "outputs": [
    {
     "data": {
      "text/plain": [
       "(257, 3)"
      ]
     },
     "execution_count": 21,
     "metadata": {},
     "output_type": "execute_result"
    }
   ],
   "source": [
    "AGG24.shape"
   ]
  },
  {
   "cell_type": "markdown",
   "id": "8daabd92",
   "metadata": {},
   "source": [
    "## 1-3"
   ]
  },
  {
   "cell_type": "code",
   "execution_count": 22,
   "id": "3e0a7f1a",
   "metadata": {},
   "outputs": [],
   "source": [
    "AGG24['POPULAR'] = AGG24['NUM_LIKES'] + AGG24['SUM_SCORE'] / AGG24['NUM_USER']"
   ]
  },
  {
   "cell_type": "code",
   "execution_count": 26,
   "id": "e1296f1e",
   "metadata": {},
   "outputs": [
    {
     "data": {
      "text/plain": [
       "20.82"
      ]
     },
     "execution_count": 26,
     "metadata": {},
     "output_type": "execute_result"
    }
   ],
   "source": [
    "AGG24['POPULAR'].max().round(2)"
   ]
  },
  {
   "cell_type": "markdown",
   "id": "624569cd",
   "metadata": {},
   "source": [
    "# 2"
   ]
  },
  {
   "cell_type": "code",
   "execution_count": 93,
   "id": "0ec44b96",
   "metadata": {},
   "outputs": [],
   "source": [
    "df2 = post.copy()"
   ]
  },
  {
   "cell_type": "markdown",
   "id": "9f722ded",
   "metadata": {},
   "source": [
    "## 2-1"
   ]
  },
  {
   "cell_type": "code",
   "execution_count": 94,
   "id": "9443af3f",
   "metadata": {},
   "outputs": [],
   "source": [
    "AGG25 = df2.groupby('USER_ID').apply(lambda x: pd.Series({\n",
    "    'NUM_POST': x['POST_ID'].nunique(),\n",
    "    'NUM_LIKE': x[x['LIKES'] == 'yes']['POST_ID'].nunique()\n",
    "}))"
   ]
  },
  {
   "cell_type": "code",
   "execution_count": 95,
   "id": "79f4a565",
   "metadata": {},
   "outputs": [
    {
     "data": {
      "text/plain": [
       "(77, 2)"
      ]
     },
     "execution_count": 95,
     "metadata": {},
     "output_type": "execute_result"
    }
   ],
   "source": [
    "AGG25.shape"
   ]
  },
  {
   "cell_type": "markdown",
   "id": "e622ff3d",
   "metadata": {},
   "source": [
    "## 2-2"
   ]
  },
  {
   "cell_type": "code",
   "execution_count": 96,
   "id": "f59e83af",
   "metadata": {},
   "outputs": [],
   "source": [
    "from sklearn.preprocessing import StandardScaler"
   ]
  },
  {
   "cell_type": "code",
   "execution_count": 97,
   "id": "bfc39ead",
   "metadata": {},
   "outputs": [],
   "source": [
    "df_scaled = pd.DataFrame(StandardScaler().fit_transform(AGG25), columns=['NUM_POST_S', 'NUM_LIKE_S'])"
   ]
  },
  {
   "cell_type": "code",
   "execution_count": 98,
   "id": "f0a70fa3",
   "metadata": {
    "scrolled": true
   },
   "outputs": [],
   "source": [
    "AGG25 = pd.concat([AGG25.reset_index(), df_scaled], axis=1)"
   ]
  },
  {
   "cell_type": "code",
   "execution_count": 99,
   "id": "5bf73608",
   "metadata": {},
   "outputs": [],
   "source": [
    "# AGG25[['NUM_POST_S', 'NUM_LIKE_S']] = pd.DataFrame(StandardScaler().fit_transform(AGG25),\n",
    "#                                                    columns=['NUM_POST_S', 'NUM_LIKE_S'],\\\n",
    "#                                                    index=AGG25.index)"
   ]
  },
  {
   "cell_type": "code",
   "execution_count": 100,
   "id": "450f4f3f",
   "metadata": {},
   "outputs": [
    {
     "data": {
      "text/html": [
       "<div>\n",
       "<style scoped>\n",
       "    .dataframe tbody tr th:only-of-type {\n",
       "        vertical-align: middle;\n",
       "    }\n",
       "\n",
       "    .dataframe tbody tr th {\n",
       "        vertical-align: top;\n",
       "    }\n",
       "\n",
       "    .dataframe thead th {\n",
       "        text-align: right;\n",
       "    }\n",
       "</style>\n",
       "<table border=\"1\" class=\"dataframe\">\n",
       "  <thead>\n",
       "    <tr style=\"text-align: right;\">\n",
       "      <th></th>\n",
       "      <th>USER_ID</th>\n",
       "      <th>NUM_POST</th>\n",
       "      <th>NUM_LIKE</th>\n",
       "      <th>NUM_POST_S</th>\n",
       "      <th>NUM_LIKE_S</th>\n",
       "    </tr>\n",
       "  </thead>\n",
       "  <tbody>\n",
       "    <tr>\n",
       "      <td>0</td>\n",
       "      <td>2</td>\n",
       "      <td>66</td>\n",
       "      <td>29</td>\n",
       "      <td>-0.432418</td>\n",
       "      <td>-0.525662</td>\n",
       "    </tr>\n",
       "    <tr>\n",
       "      <td>1</td>\n",
       "      <td>3</td>\n",
       "      <td>67</td>\n",
       "      <td>25</td>\n",
       "      <td>-0.418579</td>\n",
       "      <td>-0.632813</td>\n",
       "    </tr>\n",
       "    <tr>\n",
       "      <td>2</td>\n",
       "      <td>4</td>\n",
       "      <td>64</td>\n",
       "      <td>32</td>\n",
       "      <td>-0.460095</td>\n",
       "      <td>-0.445300</td>\n",
       "    </tr>\n",
       "    <tr>\n",
       "      <td>3</td>\n",
       "      <td>5</td>\n",
       "      <td>257</td>\n",
       "      <td>135</td>\n",
       "      <td>2.210794</td>\n",
       "      <td>2.313819</td>\n",
       "    </tr>\n",
       "    <tr>\n",
       "      <td>4</td>\n",
       "      <td>6</td>\n",
       "      <td>62</td>\n",
       "      <td>31</td>\n",
       "      <td>-0.487773</td>\n",
       "      <td>-0.472087</td>\n",
       "    </tr>\n",
       "    <tr>\n",
       "      <td>...</td>\n",
       "      <td>...</td>\n",
       "      <td>...</td>\n",
       "      <td>...</td>\n",
       "      <td>...</td>\n",
       "      <td>...</td>\n",
       "    </tr>\n",
       "    <tr>\n",
       "      <td>72</td>\n",
       "      <td>96</td>\n",
       "      <td>75</td>\n",
       "      <td>42</td>\n",
       "      <td>-0.307869</td>\n",
       "      <td>-0.177424</td>\n",
       "    </tr>\n",
       "    <tr>\n",
       "      <td>73</td>\n",
       "      <td>97</td>\n",
       "      <td>68</td>\n",
       "      <td>41</td>\n",
       "      <td>-0.404740</td>\n",
       "      <td>-0.204212</td>\n",
       "    </tr>\n",
       "    <tr>\n",
       "      <td>74</td>\n",
       "      <td>98</td>\n",
       "      <td>65</td>\n",
       "      <td>28</td>\n",
       "      <td>-0.446257</td>\n",
       "      <td>-0.552450</td>\n",
       "    </tr>\n",
       "    <tr>\n",
       "      <td>75</td>\n",
       "      <td>99</td>\n",
       "      <td>68</td>\n",
       "      <td>39</td>\n",
       "      <td>-0.404740</td>\n",
       "      <td>-0.257787</td>\n",
       "    </tr>\n",
       "    <tr>\n",
       "      <td>76</td>\n",
       "      <td>100</td>\n",
       "      <td>70</td>\n",
       "      <td>32</td>\n",
       "      <td>-0.377063</td>\n",
       "      <td>-0.445300</td>\n",
       "    </tr>\n",
       "  </tbody>\n",
       "</table>\n",
       "<p>77 rows × 5 columns</p>\n",
       "</div>"
      ],
      "text/plain": [
       "    USER_ID  NUM_POST  NUM_LIKE  NUM_POST_S  NUM_LIKE_S\n",
       "0         2        66        29   -0.432418   -0.525662\n",
       "1         3        67        25   -0.418579   -0.632813\n",
       "2         4        64        32   -0.460095   -0.445300\n",
       "3         5       257       135    2.210794    2.313819\n",
       "4         6        62        31   -0.487773   -0.472087\n",
       "..      ...       ...       ...         ...         ...\n",
       "72       96        75        42   -0.307869   -0.177424\n",
       "73       97        68        41   -0.404740   -0.204212\n",
       "74       98        65        28   -0.446257   -0.552450\n",
       "75       99        68        39   -0.404740   -0.257787\n",
       "76      100        70        32   -0.377063   -0.445300\n",
       "\n",
       "[77 rows x 5 columns]"
      ]
     },
     "execution_count": 100,
     "metadata": {},
     "output_type": "execute_result"
    }
   ],
   "source": [
    "AGG25"
   ]
  },
  {
   "cell_type": "markdown",
   "id": "ffa9ae47",
   "metadata": {},
   "source": [
    "## 2-3"
   ]
  },
  {
   "cell_type": "code",
   "execution_count": 101,
   "id": "79b79462",
   "metadata": {},
   "outputs": [],
   "source": [
    "from sklearn.cluster import KMeans"
   ]
  },
  {
   "cell_type": "code",
   "execution_count": 104,
   "id": "cb32314a",
   "metadata": {},
   "outputs": [],
   "source": [
    "col = ['NUM_POST_S', 'NUM_LIKE_S']"
   ]
  },
  {
   "cell_type": "code",
   "execution_count": 103,
   "id": "45dd7ae4",
   "metadata": {},
   "outputs": [],
   "source": [
    "model = KMeans(n_clusters=2, random_state=1234).fit(AGG25[col])"
   ]
  },
  {
   "cell_type": "markdown",
   "id": "9276b404",
   "metadata": {},
   "source": [
    "## 2-4"
   ]
  },
  {
   "cell_type": "code",
   "execution_count": 107,
   "id": "800f3b6f",
   "metadata": {},
   "outputs": [],
   "source": [
    "AGG25['cluster'] = model.predict(AGG25[col])"
   ]
  },
  {
   "cell_type": "code",
   "execution_count": 110,
   "id": "0f2e91e0",
   "metadata": {},
   "outputs": [],
   "source": [
    "Cluster1 = AGG25['cluster'].value_counts().idxmin()\n",
    "Cluster2 = AGG25['cluster'].value_counts().idxmax()"
   ]
  },
  {
   "cell_type": "markdown",
   "id": "d7543287",
   "metadata": {},
   "source": [
    "## 2-5"
   ]
  },
  {
   "cell_type": "code",
   "execution_count": 112,
   "id": "8f2865b4",
   "metadata": {},
   "outputs": [
    {
     "data": {
      "text/html": [
       "<div>\n",
       "<style scoped>\n",
       "    .dataframe tbody tr th:only-of-type {\n",
       "        vertical-align: middle;\n",
       "    }\n",
       "\n",
       "    .dataframe tbody tr th {\n",
       "        vertical-align: top;\n",
       "    }\n",
       "\n",
       "    .dataframe thead th {\n",
       "        text-align: right;\n",
       "    }\n",
       "</style>\n",
       "<table border=\"1\" class=\"dataframe\">\n",
       "  <thead>\n",
       "    <tr style=\"text-align: right;\">\n",
       "      <th></th>\n",
       "      <th>USER_ID</th>\n",
       "      <th>NUM_POST</th>\n",
       "      <th>NUM_LIKE</th>\n",
       "      <th>NUM_POST_S</th>\n",
       "      <th>NUM_LIKE_S</th>\n",
       "      <th>cluster</th>\n",
       "    </tr>\n",
       "  </thead>\n",
       "  <tbody>\n",
       "    <tr>\n",
       "      <td>0</td>\n",
       "      <td>2</td>\n",
       "      <td>66</td>\n",
       "      <td>29</td>\n",
       "      <td>-0.432418</td>\n",
       "      <td>-0.525662</td>\n",
       "      <td>0</td>\n",
       "    </tr>\n",
       "    <tr>\n",
       "      <td>1</td>\n",
       "      <td>3</td>\n",
       "      <td>67</td>\n",
       "      <td>25</td>\n",
       "      <td>-0.418579</td>\n",
       "      <td>-0.632813</td>\n",
       "      <td>0</td>\n",
       "    </tr>\n",
       "    <tr>\n",
       "      <td>2</td>\n",
       "      <td>4</td>\n",
       "      <td>64</td>\n",
       "      <td>32</td>\n",
       "      <td>-0.460095</td>\n",
       "      <td>-0.445300</td>\n",
       "      <td>0</td>\n",
       "    </tr>\n",
       "    <tr>\n",
       "      <td>3</td>\n",
       "      <td>5</td>\n",
       "      <td>257</td>\n",
       "      <td>135</td>\n",
       "      <td>2.210794</td>\n",
       "      <td>2.313819</td>\n",
       "      <td>1</td>\n",
       "    </tr>\n",
       "    <tr>\n",
       "      <td>4</td>\n",
       "      <td>6</td>\n",
       "      <td>62</td>\n",
       "      <td>31</td>\n",
       "      <td>-0.487773</td>\n",
       "      <td>-0.472087</td>\n",
       "      <td>0</td>\n",
       "    </tr>\n",
       "    <tr>\n",
       "      <td>...</td>\n",
       "      <td>...</td>\n",
       "      <td>...</td>\n",
       "      <td>...</td>\n",
       "      <td>...</td>\n",
       "      <td>...</td>\n",
       "      <td>...</td>\n",
       "    </tr>\n",
       "    <tr>\n",
       "      <td>72</td>\n",
       "      <td>96</td>\n",
       "      <td>75</td>\n",
       "      <td>42</td>\n",
       "      <td>-0.307869</td>\n",
       "      <td>-0.177424</td>\n",
       "      <td>0</td>\n",
       "    </tr>\n",
       "    <tr>\n",
       "      <td>73</td>\n",
       "      <td>97</td>\n",
       "      <td>68</td>\n",
       "      <td>41</td>\n",
       "      <td>-0.404740</td>\n",
       "      <td>-0.204212</td>\n",
       "      <td>0</td>\n",
       "    </tr>\n",
       "    <tr>\n",
       "      <td>74</td>\n",
       "      <td>98</td>\n",
       "      <td>65</td>\n",
       "      <td>28</td>\n",
       "      <td>-0.446257</td>\n",
       "      <td>-0.552450</td>\n",
       "      <td>0</td>\n",
       "    </tr>\n",
       "    <tr>\n",
       "      <td>75</td>\n",
       "      <td>99</td>\n",
       "      <td>68</td>\n",
       "      <td>39</td>\n",
       "      <td>-0.404740</td>\n",
       "      <td>-0.257787</td>\n",
       "      <td>0</td>\n",
       "    </tr>\n",
       "    <tr>\n",
       "      <td>76</td>\n",
       "      <td>100</td>\n",
       "      <td>70</td>\n",
       "      <td>32</td>\n",
       "      <td>-0.377063</td>\n",
       "      <td>-0.445300</td>\n",
       "      <td>0</td>\n",
       "    </tr>\n",
       "  </tbody>\n",
       "</table>\n",
       "<p>77 rows × 6 columns</p>\n",
       "</div>"
      ],
      "text/plain": [
       "    USER_ID  NUM_POST  NUM_LIKE  NUM_POST_S  NUM_LIKE_S  cluster\n",
       "0         2        66        29   -0.432418   -0.525662        0\n",
       "1         3        67        25   -0.418579   -0.632813        0\n",
       "2         4        64        32   -0.460095   -0.445300        0\n",
       "3         5       257       135    2.210794    2.313819        1\n",
       "4         6        62        31   -0.487773   -0.472087        0\n",
       "..      ...       ...       ...         ...         ...      ...\n",
       "72       96        75        42   -0.307869   -0.177424        0\n",
       "73       97        68        41   -0.404740   -0.204212        0\n",
       "74       98        65        28   -0.446257   -0.552450        0\n",
       "75       99        68        39   -0.404740   -0.257787        0\n",
       "76      100        70        32   -0.377063   -0.445300        0\n",
       "\n",
       "[77 rows x 6 columns]"
      ]
     },
     "execution_count": 112,
     "metadata": {},
     "output_type": "execute_result"
    }
   ],
   "source": [
    "AGG25"
   ]
  },
  {
   "cell_type": "code",
   "execution_count": 114,
   "id": "5b5b5366",
   "metadata": {},
   "outputs": [],
   "source": [
    "df2 = pd.merge(df2, AGG25, on='USER_ID', how='left')"
   ]
  },
  {
   "cell_type": "code",
   "execution_count": 118,
   "id": "5af1f41e",
   "metadata": {},
   "outputs": [
    {
     "data": {
      "text/plain": [
       "2.402274768033523"
      ]
     },
     "execution_count": 118,
     "metadata": {},
     "output_type": "execute_result"
    }
   ],
   "source": [
    "Avg_A = df2[df2['cluster'] == Cluster1]['NUM_HASHTAG'].mean()\n",
    "Avg_A"
   ]
  },
  {
   "cell_type": "markdown",
   "id": "434f47f5",
   "metadata": {},
   "source": [
    "## 2-6"
   ]
  },
  {
   "cell_type": "code",
   "execution_count": 122,
   "id": "e4e8535c",
   "metadata": {},
   "outputs": [
    {
     "data": {
      "text/plain": [
       "2.428261393778635"
      ]
     },
     "execution_count": 122,
     "metadata": {},
     "output_type": "execute_result"
    }
   ],
   "source": [
    "Avg_B = df2[df2['cluster'] == Cluster2]['NUM_HASHTAG'].mean()\n",
    "Avg_B"
   ]
  },
  {
   "cell_type": "code",
   "execution_count": 124,
   "id": "f77450f3",
   "metadata": {},
   "outputs": [
    {
     "data": {
      "text/plain": [
       "0.026"
      ]
     },
     "execution_count": 124,
     "metadata": {},
     "output_type": "execute_result"
    }
   ],
   "source": [
    "round(abs(Avg_A - Avg_B), 3)"
   ]
  },
  {
   "cell_type": "markdown",
   "id": "51826f81",
   "metadata": {},
   "source": [
    "# 3"
   ]
  },
  {
   "cell_type": "code",
   "execution_count": 125,
   "id": "c5253beb",
   "metadata": {},
   "outputs": [],
   "source": [
    "df3 = post.copy()"
   ]
  },
  {
   "cell_type": "markdown",
   "id": "4ad5585d",
   "metadata": {},
   "source": [
    "## 3-1"
   ]
  },
  {
   "cell_type": "code",
   "execution_count": 128,
   "id": "01324a12",
   "metadata": {},
   "outputs": [],
   "source": [
    "AGG26 = df3.groupby(['POST_ID', 'CREATED_DATE']).apply(lambda x: pd.Series({\n",
    "    'NUM_USER': x['USER_ID'].nunique(),\n",
    "    'NUM_LIKES': (x['LIKES'] == 'yes').sum(),\n",
    "    'AVG_HASHTAG': x['NUM_HASHTAG'].mean()\n",
    "}))"
   ]
  },
  {
   "cell_type": "code",
   "execution_count": 129,
   "id": "760d9e6c",
   "metadata": {},
   "outputs": [
    {
     "data": {
      "text/plain": [
       "(257, 3)"
      ]
     },
     "execution_count": 129,
     "metadata": {},
     "output_type": "execute_result"
    }
   ],
   "source": [
    "AGG26.shape"
   ]
  },
  {
   "cell_type": "markdown",
   "id": "868f7efe",
   "metadata": {},
   "source": [
    "## 3-2"
   ]
  },
  {
   "cell_type": "code",
   "execution_count": 132,
   "id": "0fe17d25",
   "metadata": {},
   "outputs": [],
   "source": [
    "AGG26['POPULAR'] = np.where(AGG26['NUM_USER'] >= 31, 1, 0)"
   ]
  },
  {
   "cell_type": "markdown",
   "id": "2ef86311",
   "metadata": {},
   "source": [
    "## 3-3"
   ]
  },
  {
   "cell_type": "code",
   "execution_count": 143,
   "id": "a43215dd",
   "metadata": {},
   "outputs": [],
   "source": [
    "from datetime import datetime"
   ]
  },
  {
   "cell_type": "code",
   "execution_count": 135,
   "id": "3945883f",
   "metadata": {},
   "outputs": [],
   "source": [
    "AGG26 = AGG26.reset_index()"
   ]
  },
  {
   "cell_type": "code",
   "execution_count": 145,
   "id": "e8bb6227",
   "metadata": {},
   "outputs": [],
   "source": [
    "AGG26['WEEKDAY'] = AGG26['CREATED_DATE'].map(lambda x: datetime.strptime(x, '%Y-%m-%d').strftime('%w'))"
   ]
  },
  {
   "cell_type": "markdown",
   "id": "cf545088",
   "metadata": {},
   "source": [
    "## 3-4"
   ]
  },
  {
   "cell_type": "code",
   "execution_count": 146,
   "id": "d262eff0",
   "metadata": {},
   "outputs": [],
   "source": [
    "DataSet6 = AGG26.copy()"
   ]
  },
  {
   "cell_type": "code",
   "execution_count": 147,
   "id": "6d11060b",
   "metadata": {},
   "outputs": [],
   "source": [
    "from sklearn.naive_bayes import GaussianNB"
   ]
  },
  {
   "cell_type": "code",
   "execution_count": 148,
   "id": "8662e1a7",
   "metadata": {},
   "outputs": [],
   "source": [
    "col = ['NUM_LIKES', 'AVG_HASHTAG', 'WEEKDAY']"
   ]
  },
  {
   "cell_type": "code",
   "execution_count": 149,
   "id": "826e2732",
   "metadata": {},
   "outputs": [],
   "source": [
    "model = GaussianNB().fit(X=DataSet6[col], y=DataSet6['POPULAR'])"
   ]
  },
  {
   "cell_type": "markdown",
   "id": "a34c8b64",
   "metadata": {},
   "source": [
    "## 3-5"
   ]
  },
  {
   "cell_type": "code",
   "execution_count": 152,
   "id": "e97bc665",
   "metadata": {},
   "outputs": [
    {
     "data": {
      "text/html": [
       "<div>\n",
       "<style scoped>\n",
       "    .dataframe tbody tr th:only-of-type {\n",
       "        vertical-align: middle;\n",
       "    }\n",
       "\n",
       "    .dataframe tbody tr th {\n",
       "        vertical-align: top;\n",
       "    }\n",
       "\n",
       "    .dataframe thead th {\n",
       "        text-align: right;\n",
       "    }\n",
       "</style>\n",
       "<table border=\"1\" class=\"dataframe\">\n",
       "  <thead>\n",
       "    <tr style=\"text-align: right;\">\n",
       "      <th></th>\n",
       "      <th>NUM_LIKES</th>\n",
       "      <th>AVG_HASHTAG</th>\n",
       "      <th>WEEKDAY</th>\n",
       "    </tr>\n",
       "  </thead>\n",
       "  <tbody>\n",
       "    <tr>\n",
       "      <td>0</td>\n",
       "      <td>16</td>\n",
       "      <td>2.42</td>\n",
       "      <td>5</td>\n",
       "    </tr>\n",
       "  </tbody>\n",
       "</table>\n",
       "</div>"
      ],
      "text/plain": [
       "   NUM_LIKES  AVG_HASHTAG  WEEKDAY\n",
       "0         16         2.42        5"
      ]
     },
     "execution_count": 152,
     "metadata": {},
     "output_type": "execute_result"
    }
   ],
   "source": [
    "TestSet = pd.DataFrame([{'NUM_LIKES': 16,\n",
    "                         'AVG_HASHTAG': 2.42,\n",
    "                         'WEEKDAY': 5}])\n",
    "TestSet"
   ]
  },
  {
   "cell_type": "code",
   "execution_count": 157,
   "id": "3ea5b6c7",
   "metadata": {},
   "outputs": [],
   "source": [
    "proba = model.predict_proba(TestSet[col])"
   ]
  },
  {
   "cell_type": "code",
   "execution_count": 158,
   "id": "ed8767d2",
   "metadata": {},
   "outputs": [
    {
     "data": {
      "text/plain": [
       "array([0.77612467])"
      ]
     },
     "execution_count": 158,
     "metadata": {},
     "output_type": "execute_result"
    }
   ],
   "source": [
    "proba[:, 1]"
   ]
  },
  {
   "cell_type": "code",
   "execution_count": 159,
   "id": "9190966f",
   "metadata": {},
   "outputs": [
    {
     "data": {
      "text/plain": [
       "0.776"
      ]
     },
     "execution_count": 159,
     "metadata": {},
     "output_type": "execute_result"
    }
   ],
   "source": [
    "round(0.77612467, 3)"
   ]
  }
 ],
 "metadata": {
  "kernelspec": {
   "display_name": "Python 3 (ipykernel)",
   "language": "python",
   "name": "python3"
  },
  "language_info": {
   "codemirror_mode": {
    "name": "ipython",
    "version": 3
   },
   "file_extension": ".py",
   "mimetype": "text/x-python",
   "name": "python",
   "nbconvert_exporter": "python",
   "pygments_lexer": "ipython3",
   "version": "3.7.4"
  }
 },
 "nbformat": 4,
 "nbformat_minor": 5
}
