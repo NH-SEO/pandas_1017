{
 "cells": [
  {
   "cell_type": "code",
   "execution_count": 1,
   "id": "b9cb9ad8",
   "metadata": {},
   "outputs": [],
   "source": [
    "import warnings\n",
    "warnings.filterwarnings('ignore')\n",
    "\n",
    "import pandas as pd\n",
    "import numpy as np"
   ]
  },
  {
   "cell_type": "code",
   "execution_count": 2,
   "id": "bfb25157",
   "metadata": {},
   "outputs": [],
   "source": [
    "power = pd.read_csv('lv2-2408.csv')"
   ]
  },
  {
   "cell_type": "markdown",
   "id": "5d7e2030",
   "metadata": {},
   "source": [
    "# 1"
   ]
  },
  {
   "cell_type": "code",
   "execution_count": 3,
   "id": "133acec5",
   "metadata": {},
   "outputs": [],
   "source": [
    "df1 = power.copy()"
   ]
  },
  {
   "cell_type": "markdown",
   "id": "4f032a65",
   "metadata": {},
   "source": [
    "## 1-1"
   ]
  },
  {
   "cell_type": "code",
   "execution_count": 5,
   "id": "ef506f67",
   "metadata": {},
   "outputs": [],
   "source": [
    "col = ['F1', 'F2', 'F3', 'F4', 'F5', 'F6']"
   ]
  },
  {
   "cell_type": "code",
   "execution_count": 14,
   "id": "8bdc2326",
   "metadata": {},
   "outputs": [],
   "source": [
    "for c in col:\n",
    "    q1 = df1.groupby(['SEASON', 'FAC'])[c].transform(lambda x: x.quantile(0.25))\n",
    "    q2 = df1.groupby(['SEASON', 'FAC'])[c].transform(lambda x: x.quantile(0.5))\n",
    "    q3 = df1.groupby(['SEASON', 'FAC'])[c].transform(lambda x: x.quantile(0.75))\n",
    "\n",
    "    df1[f'{c}_outlier'] = df1[c] > q2 + 2 * (q3-q1)"
   ]
  },
  {
   "cell_type": "code",
   "execution_count": 20,
   "id": "4983ee0b",
   "metadata": {},
   "outputs": [],
   "source": [
    "df1['OUT'] = np.where(df1.iloc[:, -6:].sum(axis=1) >= 1, 1, 0)"
   ]
  },
  {
   "cell_type": "markdown",
   "id": "f5a30350",
   "metadata": {},
   "source": [
    "## 1-2"
   ]
  },
  {
   "cell_type": "code",
   "execution_count": 23,
   "id": "7f813cb5",
   "metadata": {},
   "outputs": [
    {
     "data": {
      "text/plain": [
       "0.3207"
      ]
     },
     "execution_count": 23,
     "metadata": {},
     "output_type": "execute_result"
    }
   ],
   "source": [
    "df1.groupby(['SEASON', 'FAC'])['OUT'].mean().max().round(4)"
   ]
  },
  {
   "cell_type": "markdown",
   "id": "97321c49",
   "metadata": {},
   "source": [
    "# 2"
   ]
  },
  {
   "cell_type": "code",
   "execution_count": 24,
   "id": "da0668bf",
   "metadata": {},
   "outputs": [],
   "source": [
    "df2 = power.copy()"
   ]
  },
  {
   "cell_type": "markdown",
   "id": "eff421df",
   "metadata": {},
   "source": [
    "## 2-1"
   ]
  },
  {
   "cell_type": "code",
   "execution_count": 27,
   "id": "e7a116d0",
   "metadata": {},
   "outputs": [],
   "source": [
    "df2 = df2[df2['FAC'] == 'Northern']"
   ]
  },
  {
   "cell_type": "markdown",
   "id": "694ddfe9",
   "metadata": {},
   "source": [
    "## 2-2"
   ]
  },
  {
   "cell_type": "code",
   "execution_count": 32,
   "id": "f33deda1",
   "metadata": {},
   "outputs": [],
   "source": [
    "df2['TOTAL'] = df2.iloc[:, -6:].sum(axis=1)"
   ]
  },
  {
   "cell_type": "markdown",
   "id": "be953894",
   "metadata": {},
   "source": [
    "## 2-3\n",
    "$$\\bar{X} \\pm {Z}_{{\\alpha}/2} \\frac{\\sigma}{\\sqrt{n}}$$"
   ]
  },
  {
   "cell_type": "code",
   "execution_count": 35,
   "id": "0362389e",
   "metadata": {},
   "outputs": [],
   "source": [
    "sigma = 220\n",
    "z = 1.64"
   ]
  },
  {
   "cell_type": "code",
   "execution_count": 46,
   "id": "9c753a75",
   "metadata": {},
   "outputs": [],
   "source": [
    "def get_interval(x):\n",
    "    t1 = x.mean() + (z * (sigma / (x.shape[0]) ** 0.5))\n",
    "    t2 = x.mean() - (z * (sigma / (x.shape[0]) ** 0.5))\n",
    "    return t1 - t2"
   ]
  },
  {
   "cell_type": "code",
   "execution_count": 49,
   "id": "2afdd547",
   "metadata": {
    "scrolled": true
   },
   "outputs": [
    {
     "data": {
      "text/plain": [
       "53.2"
      ]
     },
     "execution_count": 49,
     "metadata": {},
     "output_type": "execute_result"
    }
   ],
   "source": [
    "df2.groupby('SEASON').apply(lambda x: get_interval(x['TOTAL'])).max().round(1)"
   ]
  },
  {
   "cell_type": "markdown",
   "id": "85294c08",
   "metadata": {},
   "source": [
    "# 3"
   ]
  },
  {
   "cell_type": "code",
   "execution_count": 75,
   "id": "a59b3410",
   "metadata": {},
   "outputs": [],
   "source": [
    "df3 = power.copy()"
   ]
  },
  {
   "cell_type": "markdown",
   "id": "bf1a3b5b",
   "metadata": {},
   "source": [
    "## 3-1"
   ]
  },
  {
   "cell_type": "code",
   "execution_count": 76,
   "id": "7a7a4fdf",
   "metadata": {},
   "outputs": [],
   "source": [
    "col = ['F1', 'F2', 'F3', 'F4', 'F5', 'F6']"
   ]
  },
  {
   "cell_type": "code",
   "execution_count": 77,
   "id": "12798a48",
   "metadata": {},
   "outputs": [],
   "source": [
    "df3[col] = df3[col].replace({0: np.nan})"
   ]
  },
  {
   "cell_type": "code",
   "execution_count": 80,
   "id": "4cd16293",
   "metadata": {},
   "outputs": [],
   "source": [
    "df3 = df3.dropna(subset=col).sort_values(by=['DATE', 'FAC'])"
   ]
  },
  {
   "cell_type": "markdown",
   "id": "0ef7b446",
   "metadata": {},
   "source": [
    "## 3-2"
   ]
  },
  {
   "cell_type": "code",
   "execution_count": 82,
   "id": "1195db39",
   "metadata": {},
   "outputs": [],
   "source": [
    "df3['F6_NEXT'] = df3.groupby('FAC')['F6'].transform(lambda x: x.shift(-1))"
   ]
  },
  {
   "cell_type": "code",
   "execution_count": 84,
   "id": "cbb88c36",
   "metadata": {},
   "outputs": [],
   "source": [
    "df3 = df3.dropna(subset=['F6_NEXT'])"
   ]
  },
  {
   "cell_type": "code",
   "execution_count": 85,
   "id": "04c24191",
   "metadata": {},
   "outputs": [
    {
     "data": {
      "text/plain": [
       "(2775, 11)"
      ]
     },
     "execution_count": 85,
     "metadata": {},
     "output_type": "execute_result"
    }
   ],
   "source": [
    "df3.shape"
   ]
  },
  {
   "cell_type": "markdown",
   "id": "f429eafb",
   "metadata": {},
   "source": [
    "## 3-3"
   ]
  },
  {
   "cell_type": "code",
   "execution_count": 89,
   "id": "d999b692",
   "metadata": {},
   "outputs": [],
   "source": [
    "df3['DATE'] = pd.to_datetime(df3['DATE'])"
   ]
  },
  {
   "cell_type": "code",
   "execution_count": 91,
   "id": "7bf8e3b4",
   "metadata": {},
   "outputs": [],
   "source": [
    "TRAIN3 = df3[df3['DATE'] < '2022-09-01']\n",
    "TEST3 = df3[df3['DATE'] >= '2022-09-01']"
   ]
  },
  {
   "cell_type": "markdown",
   "id": "e76ad31a",
   "metadata": {},
   "source": [
    "## 3-4"
   ]
  },
  {
   "cell_type": "code",
   "execution_count": 92,
   "id": "4527b64e",
   "metadata": {},
   "outputs": [],
   "source": [
    "from sklearn.linear_model import LinearRegression"
   ]
  },
  {
   "cell_type": "code",
   "execution_count": 93,
   "id": "a9757ba5",
   "metadata": {},
   "outputs": [],
   "source": [
    "model = LinearRegression().fit(X=TRAIN3[col], y=TRAIN3['F6_NEXT'])"
   ]
  },
  {
   "cell_type": "markdown",
   "id": "be59a15a",
   "metadata": {},
   "source": [
    "## 3-5"
   ]
  },
  {
   "cell_type": "code",
   "execution_count": 95,
   "id": "06e6ee91",
   "metadata": {},
   "outputs": [],
   "source": [
    "pred = model.predict(X=TEST3[col])"
   ]
  },
  {
   "cell_type": "code",
   "execution_count": 103,
   "id": "f7eb02e9",
   "metadata": {},
   "outputs": [
    {
     "data": {
      "text/plain": [
       "8.639"
      ]
     },
     "execution_count": 103,
     "metadata": {},
     "output_type": "execute_result"
    }
   ],
   "source": [
    "round((100/len(pred)) * ((pred - TEST3['F6_NEXT']) / TEST3['F6_NEXT']).abs().sum(), 3)"
   ]
  },
  {
   "cell_type": "code",
   "execution_count": null,
   "id": "b9090ace",
   "metadata": {},
   "outputs": [],
   "source": []
  },
  {
   "cell_type": "code",
   "execution_count": null,
   "id": "39392ff3",
   "metadata": {},
   "outputs": [],
   "source": []
  }
 ],
 "metadata": {
  "kernelspec": {
   "display_name": "Python 3 (ipykernel)",
   "language": "python",
   "name": "python3"
  },
  "language_info": {
   "codemirror_mode": {
    "name": "ipython",
    "version": 3
   },
   "file_extension": ".py",
   "mimetype": "text/x-python",
   "name": "python",
   "nbconvert_exporter": "python",
   "pygments_lexer": "ipython3",
   "version": "3.7.4"
  }
 },
 "nbformat": 4,
 "nbformat_minor": 5
}
