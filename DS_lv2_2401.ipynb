{
 "cells": [
  {
   "cell_type": "code",
   "execution_count": 82,
   "id": "7ab01c67",
   "metadata": {},
   "outputs": [],
   "source": [
    "import warnings\n",
    "warnings.filterwarnings('ignore')\n",
    "\n",
    "import pandas as pd\n",
    "import numpy as np"
   ]
  },
  {
   "cell_type": "code",
   "execution_count": 83,
   "id": "0273ee69",
   "metadata": {},
   "outputs": [],
   "source": [
    "Cust = pd.read_csv('lv2-2401.csv')"
   ]
  },
  {
   "cell_type": "code",
   "execution_count": 84,
   "id": "973bbf37",
   "metadata": {},
   "outputs": [
    {
     "data": {
      "text/plain": [
       "(2000, 9)"
      ]
     },
     "execution_count": 84,
     "metadata": {},
     "output_type": "execute_result"
    }
   ],
   "source": [
    "Cust.shape"
   ]
  },
  {
   "cell_type": "markdown",
   "id": "cbd7226a",
   "metadata": {},
   "source": [
    "# 1"
   ]
  },
  {
   "cell_type": "code",
   "execution_count": 85,
   "id": "f0d42bc8",
   "metadata": {},
   "outputs": [],
   "source": [
    "df1 = Cust.copy()"
   ]
  },
  {
   "cell_type": "markdown",
   "id": "887d0f0b",
   "metadata": {},
   "source": [
    "## 1-1"
   ]
  },
  {
   "cell_type": "code",
   "execution_count": 86,
   "id": "f1c66f24",
   "metadata": {},
   "outputs": [],
   "source": [
    "def get_age_p(age):\n",
    "    if age < 20:\n",
    "        return '10s'\n",
    "    elif age < 30:\n",
    "        return '20s'\n",
    "    elif age < 40:\n",
    "        return '30s'\n",
    "    elif age < 50:\n",
    "        return '40s'\n",
    "    elif age < 60:\n",
    "        return '50s'\n",
    "    else:\n",
    "        return 'other'"
   ]
  },
  {
   "cell_type": "code",
   "execution_count": 87,
   "id": "a3fbdc47",
   "metadata": {},
   "outputs": [],
   "source": [
    "df1['AGE_P'] = df1['AGE'].map(get_age_p)"
   ]
  },
  {
   "cell_type": "markdown",
   "id": "e03e4f65",
   "metadata": {},
   "source": [
    "## 1-2"
   ]
  },
  {
   "cell_type": "code",
   "execution_count": 88,
   "id": "761617ef",
   "metadata": {},
   "outputs": [],
   "source": [
    "Agg24 = df1.groupby('AGE_P').apply(lambda x: pd.Series({\n",
    "    'AVG_SPEND': x['SPENDING'].mean(),\n",
    "    'CUST_CNT': x['C_ID'].shape[0]\n",
    "}))"
   ]
  },
  {
   "cell_type": "markdown",
   "id": "649ceb8b",
   "metadata": {},
   "source": [
    "## 1-3"
   ]
  },
  {
   "cell_type": "code",
   "execution_count": 89,
   "id": "3350abb9",
   "metadata": {},
   "outputs": [
    {
     "data": {
      "text/html": [
       "<div>\n",
       "<style scoped>\n",
       "    .dataframe tbody tr th:only-of-type {\n",
       "        vertical-align: middle;\n",
       "    }\n",
       "\n",
       "    .dataframe tbody tr th {\n",
       "        vertical-align: top;\n",
       "    }\n",
       "\n",
       "    .dataframe thead th {\n",
       "        text-align: right;\n",
       "    }\n",
       "</style>\n",
       "<table border=\"1\" class=\"dataframe\">\n",
       "  <thead>\n",
       "    <tr style=\"text-align: right;\">\n",
       "      <th></th>\n",
       "      <th>AVG_SPEND</th>\n",
       "      <th>CUST_CNT</th>\n",
       "    </tr>\n",
       "    <tr>\n",
       "      <th>AGE_P</th>\n",
       "      <th></th>\n",
       "      <th></th>\n",
       "    </tr>\n",
       "  </thead>\n",
       "  <tbody>\n",
       "    <tr>\n",
       "      <td>10s</td>\n",
       "      <td>16.125789</td>\n",
       "      <td>380.0</td>\n",
       "    </tr>\n",
       "  </tbody>\n",
       "</table>\n",
       "</div>"
      ],
      "text/plain": [
       "       AVG_SPEND  CUST_CNT\n",
       "AGE_P                     \n",
       "10s    16.125789     380.0"
      ]
     },
     "execution_count": 89,
     "metadata": {},
     "output_type": "execute_result"
    }
   ],
   "source": [
    "Agg24[Agg24['AVG_SPEND'] == Agg24['AVG_SPEND'].max()]"
   ]
  },
  {
   "cell_type": "markdown",
   "id": "0c3d2652",
   "metadata": {},
   "source": [
    "# 2"
   ]
  },
  {
   "cell_type": "code",
   "execution_count": 90,
   "id": "acdaf49f",
   "metadata": {},
   "outputs": [],
   "source": [
    "df2 = Cust.copy()"
   ]
  },
  {
   "cell_type": "markdown",
   "id": "5a217c51",
   "metadata": {},
   "source": [
    "# 2-1"
   ]
  },
  {
   "cell_type": "code",
   "execution_count": 91,
   "id": "b8d2e316",
   "metadata": {},
   "outputs": [],
   "source": [
    "from sklearn.preprocessing import StandardScaler"
   ]
  },
  {
   "cell_type": "code",
   "execution_count": 92,
   "id": "9de6111b",
   "metadata": {},
   "outputs": [],
   "source": [
    "col = ['AGE', 'INCOME', 'WORK_EXP', 'FAMILY', 'SPENDING']"
   ]
  },
  {
   "cell_type": "code",
   "execution_count": 93,
   "id": "020ea171",
   "metadata": {},
   "outputs": [],
   "source": [
    "df2[col] = pd.DataFrame(StandardScaler().fit_transform(df2[col]), columns=col)"
   ]
  },
  {
   "cell_type": "markdown",
   "id": "40fcf000",
   "metadata": {},
   "source": [
    "## 2-2, 2-3"
   ]
  },
  {
   "cell_type": "code",
   "execution_count": 94,
   "id": "321e524b",
   "metadata": {},
   "outputs": [],
   "source": [
    "from sklearn.cluster import KMeans\n",
    "from sklearn.metrics import silhouette_score"
   ]
  },
  {
   "cell_type": "code",
   "execution_count": 95,
   "id": "2f5bcbb2",
   "metadata": {},
   "outputs": [],
   "source": [
    "df2 = df2.sort_values(by='C_ID')"
   ]
  },
  {
   "cell_type": "code",
   "execution_count": 96,
   "id": "8630f34a",
   "metadata": {},
   "outputs": [],
   "source": [
    "result = []\n",
    "\n",
    "for i in [3, 4]:\n",
    "    model = KMeans(n_clusters=i, random_state=1234, init='random').fit(df2[col])\n",
    "    pred = model.predict(df2[col])\n",
    "    score = silhouette_score(df2[col], pred)\n",
    "    result.append({'n_cluster': i, 'score': score})"
   ]
  },
  {
   "cell_type": "code",
   "execution_count": 97,
   "id": "852781e1",
   "metadata": {},
   "outputs": [
    {
     "data": {
      "text/plain": [
       "0.158"
      ]
     },
     "execution_count": 97,
     "metadata": {},
     "output_type": "execute_result"
    }
   ],
   "source": [
    "pd.DataFrame(result)['score'].max().round(3)"
   ]
  },
  {
   "cell_type": "markdown",
   "id": "e20fc799",
   "metadata": {},
   "source": [
    "# 3"
   ]
  },
  {
   "cell_type": "code",
   "execution_count": 98,
   "id": "62c32ba4",
   "metadata": {},
   "outputs": [],
   "source": [
    "df3 = Cust.copy()"
   ]
  },
  {
   "cell_type": "markdown",
   "id": "76ee152b",
   "metadata": {},
   "source": [
    "## 3-1"
   ]
  },
  {
   "cell_type": "code",
   "execution_count": 99,
   "id": "56456c65",
   "metadata": {},
   "outputs": [],
   "source": [
    "df3 = df3[~(df3['AGE'] < 14)].dropna(subset=['JOB'])"
   ]
  },
  {
   "cell_type": "markdown",
   "id": "8fecb280",
   "metadata": {},
   "source": [
    "## 3-2"
   ]
  },
  {
   "cell_type": "code",
   "execution_count": 100,
   "id": "b52cfc25",
   "metadata": {},
   "outputs": [],
   "source": [
    "df3 = pd.get_dummies(df3, columns=['GENDER', 'JOB'], drop_first=True)"
   ]
  },
  {
   "cell_type": "markdown",
   "id": "53e259bc",
   "metadata": {},
   "source": [
    "## 3-3"
   ]
  },
  {
   "cell_type": "code",
   "execution_count": 101,
   "id": "e179776b",
   "metadata": {},
   "outputs": [],
   "source": [
    "TrainSet6 = df3[df3['C_ID'] % 3 != 0]\n",
    "TestSet6 = df3[df3['C_ID'] % 3 == 0]"
   ]
  },
  {
   "cell_type": "markdown",
   "id": "36e4bf65",
   "metadata": {},
   "source": [
    "## 3-4"
   ]
  },
  {
   "cell_type": "code",
   "execution_count": 102,
   "id": "f649dba7",
   "metadata": {},
   "outputs": [],
   "source": [
    "from sklearn.tree import DecisionTreeClassifier"
   ]
  },
  {
   "cell_type": "code",
   "execution_count": 103,
   "id": "8064a236",
   "metadata": {},
   "outputs": [
    {
     "data": {
      "text/plain": [
       "13"
      ]
     },
     "execution_count": 103,
     "metadata": {},
     "output_type": "execute_result"
    }
   ],
   "source": [
    "col = ['AGE', 'INCOME', 'WORK_EXP', 'FAMILY',\n",
    "       'GENDER_Male',\n",
    "       'JOB_B', 'JOB_C', 'JOB_D', 'JOB_E',\n",
    "       'JOB_F', 'JOB_G', 'JOB_H', 'JOB_I']\n",
    "len(col)"
   ]
  },
  {
   "cell_type": "code",
   "execution_count": 104,
   "id": "053d75dc",
   "metadata": {},
   "outputs": [],
   "source": [
    "model = DecisionTreeClassifier(max_depth=5, random_state=1234).fit(X=TrainSet6[col], y=TrainSet6['GRADE'])"
   ]
  },
  {
   "cell_type": "markdown",
   "id": "744c5946",
   "metadata": {},
   "source": [
    "## 3-5"
   ]
  },
  {
   "cell_type": "code",
   "execution_count": 105,
   "id": "9188b225",
   "metadata": {},
   "outputs": [],
   "source": [
    "from sklearn.metrics import accuracy_score"
   ]
  },
  {
   "cell_type": "code",
   "execution_count": 106,
   "id": "c5d954ae",
   "metadata": {},
   "outputs": [],
   "source": [
    "pred = model.predict(X=TestSet6[col])"
   ]
  },
  {
   "cell_type": "code",
   "execution_count": 107,
   "id": "d1949a20",
   "metadata": {
    "scrolled": true
   },
   "outputs": [
    {
     "data": {
      "text/plain": [
       "33.22"
      ]
     },
     "execution_count": 107,
     "metadata": {},
     "output_type": "execute_result"
    }
   ],
   "source": [
    "round(accuracy_score(y_true=TestSet6['GRADE'], y_pred=pred) * 100, 2)"
   ]
  },
  {
   "cell_type": "code",
   "execution_count": null,
   "id": "63ae729e",
   "metadata": {},
   "outputs": [],
   "source": []
  },
  {
   "cell_type": "code",
   "execution_count": null,
   "id": "0782e716",
   "metadata": {},
   "outputs": [],
   "source": []
  },
  {
   "cell_type": "code",
   "execution_count": null,
   "id": "4152fcd6",
   "metadata": {},
   "outputs": [],
   "source": []
  }
 ],
 "metadata": {
  "kernelspec": {
   "display_name": "Python 3 (ipykernel)",
   "language": "python",
   "name": "python3"
  },
  "language_info": {
   "codemirror_mode": {
    "name": "ipython",
    "version": 3
   },
   "file_extension": ".py",
   "mimetype": "text/x-python",
   "name": "python",
   "nbconvert_exporter": "python",
   "pygments_lexer": "ipython3",
   "version": "3.7.4"
  }
 },
 "nbformat": 4,
 "nbformat_minor": 5
}
